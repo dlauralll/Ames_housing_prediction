{
 "cells": [
  {
   "cell_type": "markdown",
   "metadata": {},
   "source": [
    "# Import data"
   ]
  },
  {
   "cell_type": "code",
   "execution_count": 1,
   "metadata": {},
   "outputs": [],
   "source": [
    "import pandas as pd\n",
    "import numpy as np\n",
    "\n",
    "from sklearn.preprocessing import StandardScaler\n",
    "\n",
    "import matplotlib.pyplot as plt\n",
    "import seaborn as sns\n",
    "%matplotlib inline"
   ]
  },
  {
   "cell_type": "code",
   "execution_count": 2,
   "metadata": {},
   "outputs": [],
   "source": [
    "# import data - train.csv here to build our model\n",
    "data = pd.read_csv('./datasets/train_cleaned.csv')\n",
    "data_to_pred = pd.read_csv('./datasets/test_cleaned.csv')"
   ]
  },
  {
   "cell_type": "code",
   "execution_count": 3,
   "metadata": {},
   "outputs": [
    {
     "data": {
      "text/plain": [
       "(879, 76)"
      ]
     },
     "execution_count": 3,
     "metadata": {},
     "output_type": "execute_result"
    }
   ],
   "source": [
    "data_to_pred.shape"
   ]
  },
  {
   "cell_type": "code",
   "execution_count": 4,
   "metadata": {
    "scrolled": true
   },
   "outputs": [
    {
     "data": {
      "text/html": [
       "<div>\n",
       "<style scoped>\n",
       "    .dataframe tbody tr th:only-of-type {\n",
       "        vertical-align: middle;\n",
       "    }\n",
       "\n",
       "    .dataframe tbody tr th {\n",
       "        vertical-align: top;\n",
       "    }\n",
       "\n",
       "    .dataframe thead th {\n",
       "        text-align: right;\n",
       "    }\n",
       "</style>\n",
       "<table border=\"1\" class=\"dataframe\">\n",
       "  <thead>\n",
       "    <tr style=\"text-align: right;\">\n",
       "      <th></th>\n",
       "      <th>id</th>\n",
       "      <th>pid</th>\n",
       "      <th>ms_subclass</th>\n",
       "      <th>ms_zoning</th>\n",
       "      <th>lot_area</th>\n",
       "      <th>street</th>\n",
       "      <th>alley</th>\n",
       "      <th>lot_shape</th>\n",
       "      <th>land_contour</th>\n",
       "      <th>utilities</th>\n",
       "      <th>...</th>\n",
       "      <th>3ssn_porch</th>\n",
       "      <th>screen_porch</th>\n",
       "      <th>pool_area</th>\n",
       "      <th>pool_qc</th>\n",
       "      <th>fence</th>\n",
       "      <th>misc_feature</th>\n",
       "      <th>misc_val</th>\n",
       "      <th>mo_sold</th>\n",
       "      <th>yr_sold</th>\n",
       "      <th>sale_type</th>\n",
       "    </tr>\n",
       "  </thead>\n",
       "  <tbody>\n",
       "    <tr>\n",
       "      <th>0</th>\n",
       "      <td>2658</td>\n",
       "      <td>902301120</td>\n",
       "      <td>190</td>\n",
       "      <td>RM</td>\n",
       "      <td>9142</td>\n",
       "      <td>Pave</td>\n",
       "      <td>Grvl</td>\n",
       "      <td>Reg</td>\n",
       "      <td>Lvl</td>\n",
       "      <td>AllPub</td>\n",
       "      <td>...</td>\n",
       "      <td>0</td>\n",
       "      <td>0</td>\n",
       "      <td>0</td>\n",
       "      <td>NaN</td>\n",
       "      <td>NaN</td>\n",
       "      <td>NaN</td>\n",
       "      <td>0</td>\n",
       "      <td>4</td>\n",
       "      <td>2006</td>\n",
       "      <td>WD</td>\n",
       "    </tr>\n",
       "    <tr>\n",
       "      <th>1</th>\n",
       "      <td>2718</td>\n",
       "      <td>905108090</td>\n",
       "      <td>90</td>\n",
       "      <td>RL</td>\n",
       "      <td>9662</td>\n",
       "      <td>Pave</td>\n",
       "      <td>NaN</td>\n",
       "      <td>IR1</td>\n",
       "      <td>Lvl</td>\n",
       "      <td>AllPub</td>\n",
       "      <td>...</td>\n",
       "      <td>0</td>\n",
       "      <td>0</td>\n",
       "      <td>0</td>\n",
       "      <td>NaN</td>\n",
       "      <td>NaN</td>\n",
       "      <td>NaN</td>\n",
       "      <td>0</td>\n",
       "      <td>8</td>\n",
       "      <td>2006</td>\n",
       "      <td>WD</td>\n",
       "    </tr>\n",
       "    <tr>\n",
       "      <th>2</th>\n",
       "      <td>2414</td>\n",
       "      <td>528218130</td>\n",
       "      <td>60</td>\n",
       "      <td>RL</td>\n",
       "      <td>17104</td>\n",
       "      <td>Pave</td>\n",
       "      <td>NaN</td>\n",
       "      <td>IR1</td>\n",
       "      <td>Lvl</td>\n",
       "      <td>AllPub</td>\n",
       "      <td>...</td>\n",
       "      <td>0</td>\n",
       "      <td>0</td>\n",
       "      <td>0</td>\n",
       "      <td>NaN</td>\n",
       "      <td>NaN</td>\n",
       "      <td>NaN</td>\n",
       "      <td>0</td>\n",
       "      <td>9</td>\n",
       "      <td>2006</td>\n",
       "      <td>New</td>\n",
       "    </tr>\n",
       "    <tr>\n",
       "      <th>3</th>\n",
       "      <td>1989</td>\n",
       "      <td>902207150</td>\n",
       "      <td>30</td>\n",
       "      <td>RM</td>\n",
       "      <td>8520</td>\n",
       "      <td>Pave</td>\n",
       "      <td>NaN</td>\n",
       "      <td>Reg</td>\n",
       "      <td>Lvl</td>\n",
       "      <td>AllPub</td>\n",
       "      <td>...</td>\n",
       "      <td>0</td>\n",
       "      <td>0</td>\n",
       "      <td>0</td>\n",
       "      <td>NaN</td>\n",
       "      <td>NaN</td>\n",
       "      <td>NaN</td>\n",
       "      <td>0</td>\n",
       "      <td>7</td>\n",
       "      <td>2007</td>\n",
       "      <td>WD</td>\n",
       "    </tr>\n",
       "    <tr>\n",
       "      <th>4</th>\n",
       "      <td>625</td>\n",
       "      <td>535105100</td>\n",
       "      <td>20</td>\n",
       "      <td>RL</td>\n",
       "      <td>9500</td>\n",
       "      <td>Pave</td>\n",
       "      <td>NaN</td>\n",
       "      <td>IR1</td>\n",
       "      <td>Lvl</td>\n",
       "      <td>AllPub</td>\n",
       "      <td>...</td>\n",
       "      <td>0</td>\n",
       "      <td>185</td>\n",
       "      <td>0</td>\n",
       "      <td>NaN</td>\n",
       "      <td>NaN</td>\n",
       "      <td>NaN</td>\n",
       "      <td>0</td>\n",
       "      <td>7</td>\n",
       "      <td>2009</td>\n",
       "      <td>WD</td>\n",
       "    </tr>\n",
       "  </tbody>\n",
       "</table>\n",
       "<p>5 rows × 76 columns</p>\n",
       "</div>"
      ],
      "text/plain": [
       "     id        pid  ms_subclass ms_zoning  lot_area street alley lot_shape  \\\n",
       "0  2658  902301120          190        RM      9142   Pave  Grvl       Reg   \n",
       "1  2718  905108090           90        RL      9662   Pave   NaN       IR1   \n",
       "2  2414  528218130           60        RL     17104   Pave   NaN       IR1   \n",
       "3  1989  902207150           30        RM      8520   Pave   NaN       Reg   \n",
       "4   625  535105100           20        RL      9500   Pave   NaN       IR1   \n",
       "\n",
       "  land_contour utilities  ... 3ssn_porch screen_porch pool_area pool_qc fence  \\\n",
       "0          Lvl    AllPub  ...          0            0         0     NaN   NaN   \n",
       "1          Lvl    AllPub  ...          0            0         0     NaN   NaN   \n",
       "2          Lvl    AllPub  ...          0            0         0     NaN   NaN   \n",
       "3          Lvl    AllPub  ...          0            0         0     NaN   NaN   \n",
       "4          Lvl    AllPub  ...          0          185         0     NaN   NaN   \n",
       "\n",
       "  misc_feature misc_val  mo_sold  yr_sold  sale_type  \n",
       "0          NaN        0        4     2006        WD   \n",
       "1          NaN        0        8     2006        WD   \n",
       "2          NaN        0        9     2006        New  \n",
       "3          NaN        0        7     2007        WD   \n",
       "4          NaN        0        7     2009        WD   \n",
       "\n",
       "[5 rows x 76 columns]"
      ]
     },
     "execution_count": 4,
     "metadata": {},
     "output_type": "execute_result"
    }
   ],
   "source": [
    "data_to_pred.head()"
   ]
  },
  {
   "cell_type": "code",
   "execution_count": 5,
   "metadata": {
    "scrolled": false
   },
   "outputs": [
    {
     "data": {
      "text/plain": [
       "(2046, 77)"
      ]
     },
     "execution_count": 5,
     "metadata": {},
     "output_type": "execute_result"
    }
   ],
   "source": [
    "data.shape"
   ]
  },
  {
   "cell_type": "markdown",
   "metadata": {},
   "source": [
    "# Data Preprocessing"
   ]
  },
  {
   "cell_type": "markdown",
   "metadata": {},
   "source": [
    "### Combine training and testing data to clean together"
   ]
  },
  {
   "cell_type": "code",
   "execution_count": 6,
   "metadata": {},
   "outputs": [],
   "source": [
    "# # remove two-columns: \"saleprice\"\n",
    "# data = data.loc[:, ~data.columns.isin(['log_saleprice','saleprice'])]\n",
    "# add one column to note which dataset does the row belong to: training or testing?\n",
    "# data['dy'] = 'training'\n",
    "# data_to_pred['dy'] = 'testing'"
   ]
  },
  {
   "cell_type": "code",
   "execution_count": 7,
   "metadata": {
    "scrolled": false
   },
   "outputs": [],
   "source": [
    "# combine two data sets together\n",
    "combined = pd.concat([data, data_to_pred],sort=False)"
   ]
  },
  {
   "cell_type": "code",
   "execution_count": 8,
   "metadata": {},
   "outputs": [
    {
     "data": {
      "text/plain": [
       "(2925, 77)"
      ]
     },
     "execution_count": 8,
     "metadata": {},
     "output_type": "execute_result"
    }
   ],
   "source": [
    "# check if combined succesfully --yes\n",
    "combined.shape"
   ]
  },
  {
   "cell_type": "markdown",
   "metadata": {},
   "source": [
    "# Feature Engineering"
   ]
  },
  {
   "cell_type": "markdown",
   "metadata": {},
   "source": [
    "### Combine overlapped columns"
   ]
  },
  {
   "cell_type": "code",
   "execution_count": 9,
   "metadata": {},
   "outputs": [],
   "source": [
    "# total number of bath in basement\n",
    "# total number of bath\n",
    "combined['bsmt_bath'] = combined['bsmt_full_bath'] + 0.5 * combined['bsmt_half_bath'] \n",
    "combined['bath'] = combined['full_bath'] + 0.5 * combined['half_bath']"
   ]
  },
  {
   "cell_type": "code",
   "execution_count": 10,
   "metadata": {},
   "outputs": [],
   "source": [
    "# basement: 'bsmtfin_sf_1'+'bsmtfin_sf_2'+'bsmt_unf_sf'='total_bsmt_sf'\n",
    "combined['bsmtfin_sf'] = combined['bsmtfin_sf_1'] + combined['bsmtfin_sf_2']"
   ]
  },
  {
   "cell_type": "code",
   "execution_count": 11,
   "metadata": {},
   "outputs": [],
   "source": [
    "# property_age: year_sold - year_build\n",
    "combined['property_age'] = combined['yr_sold'] - combined['year_built']\n",
    "combined['remod'] = combined['year_remod/add'] - combined['year_built']"
   ]
  },
  {
   "cell_type": "code",
   "execution_count": 12,
   "metadata": {},
   "outputs": [],
   "source": [
    "# '1st_flr_sf'+'2nd_flr_sf' +'low_qual_fin_sf' = 'gr_liv_area'\n",
    "combined['high_qual_fin_sf']= combined['1st_flr_sf']+ combined['2nd_flr_sf']"
   ]
  },
  {
   "cell_type": "code",
   "execution_count": 13,
   "metadata": {},
   "outputs": [],
   "source": [
    "# combined[['totrms_abvgrd','bedroom_abvgr', 'kitchen_abvgr','fireplaces']].head()"
   ]
  },
  {
   "cell_type": "code",
   "execution_count": 14,
   "metadata": {},
   "outputs": [],
   "source": [
    "# drop above columns\n",
    "columns_to_drop = ['bsmt_full_bath','bsmt_half_bath','full_bath','half_bath',\n",
    "                   'bsmtfin_sf_1','bsmtfin_sf_2','total_bsmt_sf',\n",
    "                   'year_built', 'year_remod/add', 'garage_yr_blt',\n",
    "                   '1st_flr_sf','2nd_flr_sf','gr_liv_area',\n",
    "                   ]\n",
    "combined.drop(columns_to_drop, axis=1,inplace=True)"
   ]
  },
  {
   "cell_type": "code",
   "execution_count": 15,
   "metadata": {
    "scrolled": false
   },
   "outputs": [
    {
     "data": {
      "text/plain": [
       "Index(['id', 'pid', 'ms_subclass', 'ms_zoning', 'lot_area', 'street', 'alley',\n",
       "       'lot_shape', 'land_contour', 'utilities', 'lot_config', 'land_slope',\n",
       "       'neighborhood', 'condition_1', 'condition_2', 'bldg_type',\n",
       "       'house_style', 'overall_qual', 'overall_cond', 'roof_style',\n",
       "       'roof_matl', 'exterior_1st', 'exterior_2nd', 'exter_qual', 'exter_cond',\n",
       "       'foundation', 'bsmt_qual', 'bsmt_cond', 'bsmt_exposure',\n",
       "       'bsmtfin_type_1', 'bsmtfin_type_2', 'bsmt_unf_sf', 'heating',\n",
       "       'heating_qc', 'central_air', 'low_qual_fin_sf', 'bedroom_abvgr',\n",
       "       'kitchen_abvgr', 'kitchen_qual', 'totrms_abvgrd', 'functional',\n",
       "       'fireplaces', 'fireplace_qu', 'garage_type', 'garage_finish',\n",
       "       'garage_cars', 'garage_area', 'garage_qual', 'garage_cond',\n",
       "       'paved_drive', 'wood_deck_sf', 'open_porch_sf', 'enclosed_porch',\n",
       "       '3ssn_porch', 'screen_porch', 'pool_area', 'pool_qc', 'fence',\n",
       "       'misc_feature', 'misc_val', 'mo_sold', 'yr_sold', 'sale_type',\n",
       "       'saleprice', 'bsmt_bath', 'bath', 'bsmtfin_sf', 'property_age', 'remod',\n",
       "       'high_qual_fin_sf'],\n",
       "      dtype='object')"
      ]
     },
     "execution_count": 15,
     "metadata": {},
     "output_type": "execute_result"
    }
   ],
   "source": [
    "combined.columns"
   ]
  },
  {
   "cell_type": "code",
   "execution_count": 16,
   "metadata": {},
   "outputs": [
    {
     "data": {
      "text/plain": [
       "<matplotlib.axes._subplots.AxesSubplot at 0x120f4be10>"
      ]
     },
     "execution_count": 16,
     "metadata": {},
     "output_type": "execute_result"
    },
    {
     "data": {
      "image/png": "[encoded data removed]",
      "text/plain": [
       "<Figure size 864x864 with 2 Axes>"
      ]
     },
     "metadata": {
      "needs_background": "light"
     },
     "output_type": "display_data"
    }
   ],
   "source": [
    "# check correlation of each numeric variables with saleprice\n",
    "plt.figure(figsize = (12, 12))\n",
    "\n",
    "sns.heatmap(combined.corr()[['saleprice']].sort_values('saleprice', ascending=False), \n",
    "            cmap = 'coolwarm', \n",
    "            annot = True)"
   ]
  },
  {
   "cell_type": "markdown",
   "metadata": {},
   "source": [
    "### Create ranking for ordinal columns"
   ]
  },
  {
   "cell_type": "code",
   "execution_count": 17,
   "metadata": {},
   "outputs": [],
   "source": [
    "# fillna as 'NA' for some categorical columns with NA in their category\n",
    "combined['exter_qual'].fillna(value='NA',inplace=True)\n",
    "combined['exter_cond'].fillna(value='NA',inplace=True)\n",
    "combined['bsmt_qual'].fillna(value='NA',inplace=True)\n",
    "combined['bsmt_cond'].fillna(value='NA',inplace=True)\n",
    "combined['fireplace_qu'].fillna(value='NA',inplace=True)\n",
    "combined['garage_qual'].fillna(value='NA',inplace=True) \n",
    "combined['garage_cond'].fillna(value='NA',inplace=True) \n",
    "combined['pool_qc'].fillna(value='NA',inplace=True) \n",
    "combined['bsmtfin_type_1'].fillna(value='NA',inplace=True)\n",
    "combined['bsmtfin_type_2'].fillna(value='NA',inplace=True)\n",
    "combined['garage_type'].fillna(value='NA',inplace=True)\n",
    "combined['garage_finish'].fillna(value='NA',inplace=True)\n",
    "combined['fence'].fillna(value='NA',inplace=True)\n",
    "combined['bsmt_exposure'].fillna(value='NA',inplace=True)"
   ]
  },
  {
   "cell_type": "code",
   "execution_count": 18,
   "metadata": {},
   "outputs": [],
   "source": [
    "# transfer some ordinal columns into numbers\n",
    "# Utilities: which has E,G,W,S combos\n",
    "utilities_dict = {'ELO': 1,\n",
    "                  'NoSeWa': 2,\n",
    "                  'NoSewr': 3,\n",
    "                  'AllPub': 4}\n",
    "combined['utilities'] = combined['utilities'].map(utilities_dict)"
   ]
  },
  {
   "cell_type": "code",
   "execution_count": 19,
   "metadata": {},
   "outputs": [],
   "source": [
    "# transfer some ordinal columns into numbers\n",
    "# transfer Ex, Gd, TA, Fa, Po, NA as 5,4,3,2,1,0\n",
    "level_dict_6levels = {'Ex': 5,\n",
    "                    'Gd': 4,\n",
    "                    'TA': 3,\n",
    "                    'Fa': 2,\n",
    "                    'Po': 1,\n",
    "                    'NA': 0}\n",
    "combined['exter_qual'] = combined['exter_qual'].map(level_dict_6levels)\n",
    "combined['exter_cond'] = combined['exter_cond'].map(level_dict_6levels)\n",
    "combined['bsmt_qual'] = combined['bsmt_qual'].map(level_dict_6levels)\n",
    "combined['bsmt_cond'] = combined['bsmt_cond'].map(level_dict_6levels)\n",
    "combined['fireplace_qu'] = combined['fireplace_qu'].map(level_dict_6levels)\n",
    "combined['garage_qual'] = combined['garage_qual'].map(level_dict_6levels)\n",
    "combined['garage_cond'] = combined['garage_cond'].map(level_dict_6levels)"
   ]
  },
  {
   "cell_type": "code",
   "execution_count": 20,
   "metadata": {},
   "outputs": [],
   "source": [
    "level_dict_5levels = {'Ex': 5,\n",
    "                    'Gd': 4,\n",
    "                    'TA': 3,\n",
    "                    'Fa': 2,\n",
    "                    'Po': 1}\n",
    "combined['heating_qc'] = combined['heating_qc'].map(level_dict_5levels)\n",
    "combined['kitchen_qual'] = combined['kitchen_qual'].map(level_dict_5levels)"
   ]
  },
  {
   "cell_type": "code",
   "execution_count": 21,
   "metadata": {},
   "outputs": [],
   "source": [
    "# transfer some ordinal columns into numbers\n",
    "# transfer Ex, Gd, TA, Fa, Po, NA as 5,4,3,2,1,0\n",
    "level_dict_4levels = {'Ex': 4,\n",
    "                    'Gd': 3,\n",
    "                    'TA': 2,\n",
    "                    'Fa': 1,\n",
    "                    'NA': 0}\n",
    "combined['pool_qc'] = combined['pool_qc'].map(level_dict_4levels)"
   ]
  },
  {
   "cell_type": "code",
   "execution_count": 22,
   "metadata": {},
   "outputs": [],
   "source": [
    "# transfer some ordinal columns into numbers\n",
    "# transfer Ex, Gd, TA, Fa, Po, NA as 5,4,3,2,1,0\n",
    "level_dict_na_glq = {'GLQ' : 6,\n",
    "                    'ALQ' : 5,\n",
    "                    'BLQ' : 4,\n",
    "                    'Rec' : 3,\n",
    "                    'LwQ' : 2,\n",
    "                    'Unf' : 1,\n",
    "                    'NA' : 0 }\n",
    "combined['bsmtfin_type_1'] = combined['bsmtfin_type_1'].map(level_dict_na_glq)\n",
    "combined['bsmtfin_type_2'] = combined['bsmtfin_type_2'].map(level_dict_na_glq)"
   ]
  },
  {
   "cell_type": "code",
   "execution_count": 23,
   "metadata": {},
   "outputs": [],
   "source": [
    "# transfer Gd, Av, Mn, No, NA as 4,3,2,1,0\n",
    "combined['bsmt_exposure'] = combined['bsmt_exposure'].map({'Gd': 4,'Av': 3,'Mn': 2,'No': 1,'NA': 0})\n"
   ]
  },
  {
   "cell_type": "code",
   "execution_count": 24,
   "metadata": {},
   "outputs": [],
   "source": [
    "# transfer some ordinal columns into numbers\n",
    "# N, Y as 0, 1\n",
    "combined['central_air'] = combined['central_air'].map({'N': 0,'Y': 1})\n",
    "combined['paved_drive'] = combined['paved_drive'].map({'Y': 3,'P': 2,'N': 1})"
   ]
  },
  {
   "cell_type": "code",
   "execution_count": 25,
   "metadata": {},
   "outputs": [],
   "source": [
    "# transfer some ordinal columns into numbers\n",
    "combined['functional'] = combined['functional'].map({'Typ': 0,'Min1': 1,\n",
    "                                                     'Min2': 2, 'Mod': 3,\n",
    "                                                    'Maj1': 4, 'Maj2': 5,\n",
    "                                                    'Sev': 6, 'Sal': 7})\n",
    "\n",
    "combined['garage_type'] = combined['garage_type'].map({'2Types': 6,'Attchd': 5,\n",
    "                                                     'Basment': 4, 'BuiltIn': 3,\n",
    "                                                    'CarPort': 3, 'Detchd': 1,\n",
    "                                                    'NA': 0})\n",
    "\n",
    "combined['garage_finish'] = combined['garage_finish'].map({'Fin': 3,'RFn': 2,\n",
    "                                                     'Unf': 1, 'NA': 0})\n",
    "\n",
    "combined['fence'] = combined['fence'].map({'GdPrv': 4,'MnPrv': 3,'GdWo':2,\n",
    "                                                     'MnWw':1, 'NA': 0})"
   ]
  },
  {
   "cell_type": "markdown",
   "metadata": {},
   "source": [
    "### Create dummy variables for categorical columns"
   ]
  },
  {
   "cell_type": "markdown",
   "metadata": {},
   "source": [
    "(always remember to create N-1 dummy variables)"
   ]
  },
  {
   "cell_type": "code",
   "execution_count": 26,
   "metadata": {},
   "outputs": [],
   "source": [
    "categorical_columns = ['ms_subclass',\n",
    "                       'ms_zoning',\n",
    "                       'street',\n",
    "                       'alley', #NA\n",
    "                       'land_contour',\n",
    "                       'lot_config',\n",
    "                       'land_slope',\n",
    "                       'neighborhood',\n",
    "                       'condition_1',\n",
    "                       'condition_2',\n",
    "                       'bldg_type',\n",
    "                       'house_style',\n",
    "                       'roof_style',\n",
    "                       'roof_matl',\n",
    "                       'exterior_1st',\n",
    "                       'exterior_2nd',\n",
    "                       'foundation',\n",
    "                       'heating',\n",
    "                       'misc_feature', #NA\n",
    "                       'sale_type',\n",
    "                       'lot_shape']"
   ]
  },
  {
   "cell_type": "code",
   "execution_count": 27,
   "metadata": {
    "scrolled": false
   },
   "outputs": [
    {
     "name": "stdout",
     "output_type": "stream",
     "text": [
      "['ms_subclass_150', 'ms_zoning_I (all)', 'street_Grvl', 'land_contour_Low', 'lot_config_FR3', 'land_slope_Sev', 'neighborhood_Landmrk', 'condition_1_RRNe', 'condition_2_RRAe', 'bldg_type_2fmCon', 'house_style_2.5Fin', 'roof_style_Shed', 'roof_matl_Membran', 'exterior_1st_ImStucc', 'exterior_2nd_CBlock', 'foundation_Wood', 'heating_OthW', 'sale_type_Oth', 'lot_shape_IR3']\n"
     ]
    }
   ],
   "source": [
    "# find the category with the least records in training set\n",
    "# If this categorical column has NA, just create dummy variables\n",
    "# If no NA, to create N-1 dummy variables, I'll drop below columns with the least records\n",
    "dummy_columns_to_drop = []\n",
    "for i in categorical_columns:\n",
    "    if i in ['alley','misc_feature']:\n",
    "        continue\n",
    "    else:\n",
    "        dummy_columns_to_drop.append(i + \"_\" + str(data[i].value_counts().idxmin()))\n",
    "print(dummy_columns_to_drop)       "
   ]
  },
  {
   "cell_type": "code",
   "execution_count": 28,
   "metadata": {
    "scrolled": true
   },
   "outputs": [],
   "source": [
    "# create a function to create dummy variables\n",
    "combined_new = pd.get_dummies(combined, columns=categorical_columns)"
   ]
  },
  {
   "cell_type": "code",
   "execution_count": 29,
   "metadata": {},
   "outputs": [],
   "source": [
    "# drop above picked columns\n",
    "combined_new.drop(dummy_columns_to_drop, axis=1, inplace=True)"
   ]
  },
  {
   "cell_type": "code",
   "execution_count": 30,
   "metadata": {
    "scrolled": false
   },
   "outputs": [
    {
     "data": {
      "text/plain": [
       "(2925, 205)"
      ]
     },
     "execution_count": 30,
     "metadata": {},
     "output_type": "execute_result"
    }
   ],
   "source": [
    "combined_new.shape"
   ]
  },
  {
   "cell_type": "markdown",
   "metadata": {},
   "source": [
    "### Scale Data"
   ]
  },
  {
   "cell_type": "code",
   "execution_count": 31,
   "metadata": {},
   "outputs": [],
   "source": [
    "X = combined_new.loc[:, ~combined_new.columns.isin(['id','pid','saleprice'])]"
   ]
  },
  {
   "cell_type": "code",
   "execution_count": 32,
   "metadata": {},
   "outputs": [
    {
     "data": {
      "text/plain": [
       "StandardScaler(copy=True, with_mean=True, with_std=True)"
      ]
     },
     "execution_count": 32,
     "metadata": {},
     "output_type": "execute_result"
    }
   ],
   "source": [
    "ss = StandardScaler()\n",
    "ss.fit(X)"
   ]
  },
  {
   "cell_type": "code",
   "execution_count": 33,
   "metadata": {},
   "outputs": [],
   "source": [
    "# get the scaled data\n",
    "X_scaled = ss.transform(X)"
   ]
  },
  {
   "cell_type": "code",
   "execution_count": 34,
   "metadata": {},
   "outputs": [],
   "source": [
    "# pass the list of columns and transfer scaled data (array) as a dataframe\n",
    "list_columns = combined_new.columns[~combined_new.columns.isin(['id','pid','saleprice'])]\n",
    "df = pd.DataFrame(data=X_scaled, columns=list_columns)"
   ]
  },
  {
   "cell_type": "code",
   "execution_count": 35,
   "metadata": {},
   "outputs": [],
   "source": [
    "# put dropped columns back to the dataset based on index\n",
    "df['id'] = combined_new['id'].tolist()\n",
    "df['saleprice'] = combined_new['saleprice'].tolist()"
   ]
  },
  {
   "cell_type": "code",
   "execution_count": 36,
   "metadata": {},
   "outputs": [],
   "source": [
    "# Split training and testing data\n",
    "# training: 0-2045, testing: 2046~2925\n",
    "train_v3 = df.iloc[0:2046,:]\n",
    "test_v3 = df.iloc[2046:,:]"
   ]
  },
  {
   "cell_type": "code",
   "execution_count": 37,
   "metadata": {
    "scrolled": false
   },
   "outputs": [
    {
     "name": "stderr",
     "output_type": "stream",
     "text": [
      "/usr/local/lib/python3.7/site-packages/pandas/core/frame.py:3940: SettingWithCopyWarning: \n",
      "A value is trying to be set on a copy of a slice from a DataFrame\n",
      "\n",
      "See the caveats in the documentation: http://pandas.pydata.org/pandas-docs/stable/indexing.html#indexing-view-versus-copy\n",
      "  errors=errors)\n"
     ]
    }
   ],
   "source": [
    "test_v3.drop('saleprice',axis=1, inplace=True)"
   ]
  },
  {
   "cell_type": "code",
   "execution_count": 38,
   "metadata": {},
   "outputs": [
    {
     "data": {
      "text/plain": [
       "(2046, 204)"
      ]
     },
     "execution_count": 38,
     "metadata": {},
     "output_type": "execute_result"
    }
   ],
   "source": [
    "train_v3.shape"
   ]
  },
  {
   "cell_type": "code",
   "execution_count": 39,
   "metadata": {},
   "outputs": [
    {
     "data": {
      "text/plain": [
       "(879, 203)"
      ]
     },
     "execution_count": 39,
     "metadata": {},
     "output_type": "execute_result"
    }
   ],
   "source": [
    "test_v3.shape"
   ]
  },
  {
   "cell_type": "code",
   "execution_count": 40,
   "metadata": {},
   "outputs": [
    {
     "name": "stdout",
     "output_type": "stream",
     "text": [
      "Stored 'train_v3' (DataFrame)\n",
      "Stored 'test_v3' (DataFrame)\n"
     ]
    }
   ],
   "source": [
    "# store precessed data\n",
    "%store train_v3\n",
    "%store test_v3"
   ]
  },
  {
   "cell_type": "code",
   "execution_count": null,
   "metadata": {},
   "outputs": [],
   "source": []
  }
 ],
 "metadata": {
  "kernelspec": {
   "display_name": "Python 3",
   "language": "python",
   "name": "python3"
  },
  "language_info": {
   "codemirror_mode": {
    "name": "ipython",
    "version": 3
   },
   "file_extension": ".py",
   "mimetype": "text/x-python",
   "name": "python",
   "nbconvert_exporter": "python",
   "pygments_lexer": "ipython3",
   "version": "3.7.3"
  }
 },
 "nbformat": 4,
 "nbformat_minor": 2
}
