{
 "cells": [
  {
   "cell_type": "markdown",
   "metadata": {},
   "source": [
    "Import Packages"
   ]
  },
  {
   "cell_type": "code",
   "execution_count": 1,
   "metadata": {},
   "outputs": [],
   "source": [
    "import pandas as pd\n",
    "import numpy as np\n",
    "\n",
    "from sklearn.linear_model import LinearRegression, LassoCV, RidgeCV\n",
    "from sklearn.model_selection import train_test_split, cross_val_score\n",
    "from sklearn.metrics import r2_score\n",
    "\n",
    "import matplotlib.pyplot as plt\n",
    "import seaborn as sns\n",
    "\n",
    "%matplotlib inline"
   ]
  },
  {
   "cell_type": "markdown",
   "metadata": {},
   "source": [
    "# Model Version2 (Lasso & Ridge)"
   ]
  },
  {
   "cell_type": "code",
   "execution_count": 2,
   "metadata": {},
   "outputs": [],
   "source": [
    "# import data version1\n",
    "%store -r train_v2\n",
    "%store -r test_v2"
   ]
  },
  {
   "cell_type": "code",
   "execution_count": 3,
   "metadata": {},
   "outputs": [],
   "source": [
    "# Split train data into training set and testing set\n",
    "X = train_v2.drop(['id', 'saleprice'], axis=1)\n",
    "y = np.log(train_v2['saleprice'])"
   ]
  },
  {
   "cell_type": "code",
   "execution_count": 4,
   "metadata": {},
   "outputs": [],
   "source": [
    "X_train, X_test, y_train, y_test = train_test_split(X, y, random_state=42)"
   ]
  },
  {
   "cell_type": "code",
   "execution_count": 5,
   "metadata": {},
   "outputs": [],
   "source": [
    "# Build a lr model\n",
    "lr = LinearRegression()\n",
    "lr = lr.fit(X_train, y_train)"
   ]
  },
  {
   "cell_type": "code",
   "execution_count": 6,
   "metadata": {},
   "outputs": [],
   "source": [
    "# Build a lasso model\n",
    "# I choose Lasso since I have so many features here\n",
    "# to avoid overfitting, I want Lasso to zero out some unnecessary features\n",
    "# Set up a list of Lasso alphas to check.\n",
    "l_alphas = np.logspace(-3, 0, 100)\n",
    "\n",
    "# Cross-validate over our list of Lasso alphas.\n",
    "lasso_model = LassoCV(alphas=l_alphas, cv=5)\n",
    "\n",
    "# Fit model using best ridge alpha!\n",
    "lasso_model = lasso_model.fit(X_train, y_train)"
   ]
  },
  {
   "cell_type": "code",
   "execution_count": 7,
   "metadata": {},
   "outputs": [],
   "source": [
    "# Set up a list of ridge alphas to check.\n",
    "r_alphas = np.logspace(0, 5, 100)\n",
    "# Generates 100 values equally between 0 and 5,\n",
    "# then converts them to alphas between 10^0 and 10^5.\n",
    "\n",
    "# Cross-validate over our list of ridge alphas.\n",
    "ridge_model = RidgeCV(alphas=r_alphas, scoring='r2', cv=5)\n",
    "\n",
    "# Fit model using best ridge alpha!\n",
    "ridge_model = ridge_model.fit(X_train, y_train)"
   ]
  },
  {
   "cell_type": "markdown",
   "metadata": {},
   "source": [
    "Evaluate the model performance"
   ]
  },
  {
   "cell_type": "code",
   "execution_count": 8,
   "metadata": {},
   "outputs": [
    {
     "data": {
      "text/plain": [
       "-2.779111663855247e+22"
      ]
     },
     "execution_count": 8,
     "metadata": {},
     "output_type": "execute_result"
    }
   ],
   "source": [
    "# cross validation\n",
    "# check lr model\n",
    "cross_val_score(lr, X_train, y_train, cv=5).mean()"
   ]
  },
  {
   "cell_type": "code",
   "execution_count": 9,
   "metadata": {},
   "outputs": [
    {
     "data": {
      "text/plain": [
       "0.8666242710197555"
      ]
     },
     "execution_count": 9,
     "metadata": {},
     "output_type": "execute_result"
    }
   ],
   "source": [
    "# check lasso model\n",
    "cross_val_score(lasso_model, X_train, y_train, cv=5).mean()"
   ]
  },
  {
   "cell_type": "code",
   "execution_count": 10,
   "metadata": {},
   "outputs": [
    {
     "data": {
      "text/plain": [
       "0.8706565185802662"
      ]
     },
     "execution_count": 10,
     "metadata": {},
     "output_type": "execute_result"
    }
   ],
   "source": [
    "# check ridge model\n",
    "cross_val_score(ridge_model, X_train, y_train, cv=5).mean()"
   ]
  },
  {
   "cell_type": "code",
   "execution_count": 11,
   "metadata": {},
   "outputs": [
    {
     "name": "stdout",
     "output_type": "stream",
     "text": [
      "0.9378249348841992\n",
      "-3.27372711302089e+19\n"
     ]
    }
   ],
   "source": [
    "# check r2 score for lr\n",
    "# predict X_train and X_test\n",
    "y_pred_train_lr = lr.predict(X_train)\n",
    "y_pred_test_lr = lr.predict(X_test)\n",
    "# check r^2 score on training and testing set\n",
    "print(r2_score(y_train, y_pred_train_lr))\n",
    "print(r2_score(y_test, y_pred_test_lr))"
   ]
  },
  {
   "cell_type": "code",
   "execution_count": 12,
   "metadata": {},
   "outputs": [
    {
     "name": "stdout",
     "output_type": "stream",
     "text": [
      "0.9294635243266027\n",
      "0.8768274777446767\n"
     ]
    }
   ],
   "source": [
    "# check r2 score for lasso\n",
    "# predict X_train and X_test\n",
    "y_pred_train_lasso = lasso_model.predict(X_train)\n",
    "y_pred_test_lasso = lasso_model.predict(X_test)\n",
    "# check r^2 score on training and testing set\n",
    "print(r2_score(y_train, y_pred_train_lasso))\n",
    "print(r2_score(y_test, y_pred_test_lasso))"
   ]
  },
  {
   "cell_type": "code",
   "execution_count": 13,
   "metadata": {},
   "outputs": [
    {
     "name": "stdout",
     "output_type": "stream",
     "text": [
      "0.9231888611161005\n",
      "0.8835898544026896\n"
     ]
    }
   ],
   "source": [
    "# check r2 score for ridge\n",
    "# predict X_train and X_test\n",
    "y_pred_train_ridge = ridge_model.predict(X_train)\n",
    "y_pred_test_ridge = ridge_model.predict(X_test)\n",
    "# check r^2 score on training and testing set\n",
    "print(r2_score(y_train, y_pred_train_ridge))\n",
    "print(r2_score(y_test, y_pred_test_ridge))"
   ]
  },
  {
   "cell_type": "code",
   "execution_count": 14,
   "metadata": {},
   "outputs": [
    {
     "name": "stdout",
     "output_type": "stream",
     "text": [
      "0.011842010444514977\n",
      "0.021336305371363145\n"
     ]
    }
   ],
   "source": [
    "# check MSE of the model\n",
    "def MSE(y, y_hat):\n",
    "    return np.mean((y-y_hat)**2)\n",
    "\n",
    "# check MSE for lasso\n",
    "print(MSE(y_train,y_pred_train_lasso))\n",
    "print(MSE(y_test,y_pred_test_lasso))"
   ]
  },
  {
   "cell_type": "code",
   "execution_count": 15,
   "metadata": {},
   "outputs": [
    {
     "name": "stdout",
     "output_type": "stream",
     "text": [
      "0.012895431763984224\n",
      "0.020164906663521033\n"
     ]
    }
   ],
   "source": [
    "# check MSE for ridge\n",
    "print(MSE(y_train,y_pred_train_ridge))\n",
    "print(MSE(y_test,y_pred_test_ridge))"
   ]
  },
  {
   "cell_type": "code",
   "execution_count": 43,
   "metadata": {},
   "outputs": [
    {
     "name": "stdout",
     "output_type": "stream",
     "text": [
      "0.010438255717493954\n",
      "5.670846070776635e+18\n"
     ]
    }
   ],
   "source": [
    "# check MSE for lr\n",
    "print(MSE(y_train,y_pred_train_lr))\n",
    "print(MSE(y_test,y_pred_test_lr))"
   ]
  },
  {
   "cell_type": "markdown",
   "metadata": {},
   "source": [
    "Predict the test data"
   ]
  },
  {
   "cell_type": "code",
   "execution_count": 16,
   "metadata": {},
   "outputs": [],
   "source": [
    "# I decided to use lasso model since it performs much better than lr\n",
    "test_predict= test_v2.drop(['id'], axis=1)"
   ]
  },
  {
   "cell_type": "code",
   "execution_count": 17,
   "metadata": {},
   "outputs": [],
   "source": [
    "# use lasso to predict\n",
    "predict_result_log_lasso = lasso_model.predict(test_predict)\n",
    "predict_result_lasso = np.exp(predict_result_log_lasso)"
   ]
  },
  {
   "cell_type": "code",
   "execution_count": 18,
   "metadata": {},
   "outputs": [
    {
     "data": {
      "text/plain": [
       "array([125063.07975559, 157980.44038002, 220091.74335163,  97326.63681729,\n",
       "       172133.68885888,  94061.37544356, 107387.55051366, 151351.07006516,\n",
       "       183227.81613906, 165637.8644953 ])"
      ]
     },
     "execution_count": 18,
     "metadata": {},
     "output_type": "execute_result"
    }
   ],
   "source": [
    "# take a peak at the first 10 price\n",
    "predict_result_lasso[0:10]"
   ]
  },
  {
   "cell_type": "code",
   "execution_count": 19,
   "metadata": {},
   "outputs": [],
   "source": [
    "# use ridge to predict\n",
    "predict_result_log_ridge = ridge_model.predict(test_predict)\n",
    "predict_result_ridge = np.exp(predict_result_log_ridge)"
   ]
  },
  {
   "cell_type": "code",
   "execution_count": 20,
   "metadata": {},
   "outputs": [
    {
     "data": {
      "text/plain": [
       "array([111349.60234672, 162260.70971204, 227619.5790372 ,  96800.64760459,\n",
       "       176187.89863797,  95392.4649013 , 104974.7883363 , 153556.33364232,\n",
       "       171409.98592854, 166288.33979042])"
      ]
     },
     "execution_count": 20,
     "metadata": {},
     "output_type": "execute_result"
    }
   ],
   "source": [
    "# take a peak at the first 10 price\n",
    "predict_result_ridge[0:10]"
   ]
  },
  {
   "cell_type": "code",
   "execution_count": 21,
   "metadata": {
    "scrolled": true
   },
   "outputs": [],
   "source": [
    "test_v2 = test_v2.rename({'id': 'Id'}, axis=1)\n",
    "test_v2= test_v2.reset_index()"
   ]
  },
  {
   "cell_type": "code",
   "execution_count": 22,
   "metadata": {},
   "outputs": [],
   "source": [
    "# result for lasso"
   ]
  },
  {
   "cell_type": "code",
   "execution_count": 23,
   "metadata": {},
   "outputs": [],
   "source": [
    "predict_result_v2_lasso = pd.DataFrame(predict_result_lasso, columns=['SalePrice'])"
   ]
  },
  {
   "cell_type": "code",
   "execution_count": 24,
   "metadata": {},
   "outputs": [],
   "source": [
    "kg_v2_lasso = pd.DataFrame({'Id':test_v2['Id'], 'saleprice': predict_result_v2_lasso['SalePrice']})"
   ]
  },
  {
   "cell_type": "code",
   "execution_count": 25,
   "metadata": {},
   "outputs": [],
   "source": [
    "kg_v2_lasso.to_csv('./datasets/kaggle_submission_v2_lasso.csv', index=False)"
   ]
  },
  {
   "cell_type": "code",
   "execution_count": 26,
   "metadata": {},
   "outputs": [],
   "source": [
    "# result for ridge"
   ]
  },
  {
   "cell_type": "code",
   "execution_count": 27,
   "metadata": {},
   "outputs": [],
   "source": [
    "predict_result_v2_ridge = pd.DataFrame(predict_result_ridge, columns=['SalePrice'])"
   ]
  },
  {
   "cell_type": "code",
   "execution_count": 28,
   "metadata": {},
   "outputs": [],
   "source": [
    "kg_v2_ridge = pd.DataFrame({'Id':test_v2['Id'], 'saleprice': predict_result_v2_ridge['SalePrice']})"
   ]
  },
  {
   "cell_type": "code",
   "execution_count": 29,
   "metadata": {},
   "outputs": [],
   "source": [
    "kg_v2_ridge.to_csv('./datasets/kaggle_submission_v2_ridge.csv', index=False)"
   ]
  },
  {
   "cell_type": "code",
   "execution_count": 30,
   "metadata": {
    "scrolled": false
   },
   "outputs": [
    {
     "data": {
      "text/html": [
       "<div>\n",
       "<style scoped>\n",
       "    .dataframe tbody tr th:only-of-type {\n",
       "        vertical-align: middle;\n",
       "    }\n",
       "\n",
       "    .dataframe tbody tr th {\n",
       "        vertical-align: top;\n",
       "    }\n",
       "\n",
       "    .dataframe thead th {\n",
       "        text-align: right;\n",
       "    }\n",
       "</style>\n",
       "<table border=\"1\" class=\"dataframe\">\n",
       "  <thead>\n",
       "    <tr style=\"text-align: right;\">\n",
       "      <th></th>\n",
       "      <th>Id</th>\n",
       "      <th>saleprice</th>\n",
       "    </tr>\n",
       "  </thead>\n",
       "  <tbody>\n",
       "    <tr>\n",
       "      <th>0</th>\n",
       "      <td>2658</td>\n",
       "      <td>125063.079756</td>\n",
       "    </tr>\n",
       "    <tr>\n",
       "      <th>1</th>\n",
       "      <td>2718</td>\n",
       "      <td>157980.440380</td>\n",
       "    </tr>\n",
       "    <tr>\n",
       "      <th>2</th>\n",
       "      <td>2414</td>\n",
       "      <td>220091.743352</td>\n",
       "    </tr>\n",
       "    <tr>\n",
       "      <th>3</th>\n",
       "      <td>1989</td>\n",
       "      <td>97326.636817</td>\n",
       "    </tr>\n",
       "    <tr>\n",
       "      <th>4</th>\n",
       "      <td>625</td>\n",
       "      <td>172133.688859</td>\n",
       "    </tr>\n",
       "  </tbody>\n",
       "</table>\n",
       "</div>"
      ],
      "text/plain": [
       "     Id      saleprice\n",
       "0  2658  125063.079756\n",
       "1  2718  157980.440380\n",
       "2  2414  220091.743352\n",
       "3  1989   97326.636817\n",
       "4   625  172133.688859"
      ]
     },
     "execution_count": 30,
     "metadata": {},
     "output_type": "execute_result"
    }
   ],
   "source": [
    "kg_v2_lasso.head()"
   ]
  },
  {
   "cell_type": "code",
   "execution_count": 40,
   "metadata": {},
   "outputs": [
    {
     "data": {
      "text/html": [
       "<div>\n",
       "<style scoped>\n",
       "    .dataframe tbody tr th:only-of-type {\n",
       "        vertical-align: middle;\n",
       "    }\n",
       "\n",
       "    .dataframe tbody tr th {\n",
       "        vertical-align: top;\n",
       "    }\n",
       "\n",
       "    .dataframe thead th {\n",
       "        text-align: right;\n",
       "    }\n",
       "</style>\n",
       "<table border=\"1\" class=\"dataframe\">\n",
       "  <thead>\n",
       "    <tr style=\"text-align: right;\">\n",
       "      <th></th>\n",
       "      <th>Id</th>\n",
       "      <th>saleprice</th>\n",
       "    </tr>\n",
       "  </thead>\n",
       "  <tbody>\n",
       "    <tr>\n",
       "      <th>0</th>\n",
       "      <td>2658</td>\n",
       "      <td>111349.602347</td>\n",
       "    </tr>\n",
       "    <tr>\n",
       "      <th>1</th>\n",
       "      <td>2718</td>\n",
       "      <td>162260.709712</td>\n",
       "    </tr>\n",
       "    <tr>\n",
       "      <th>2</th>\n",
       "      <td>2414</td>\n",
       "      <td>227619.579037</td>\n",
       "    </tr>\n",
       "    <tr>\n",
       "      <th>3</th>\n",
       "      <td>1989</td>\n",
       "      <td>96800.647605</td>\n",
       "    </tr>\n",
       "    <tr>\n",
       "      <th>4</th>\n",
       "      <td>625</td>\n",
       "      <td>176187.898638</td>\n",
       "    </tr>\n",
       "  </tbody>\n",
       "</table>\n",
       "</div>"
      ],
      "text/plain": [
       "     Id      saleprice\n",
       "0  2658  111349.602347\n",
       "1  2718  162260.709712\n",
       "2  2414  227619.579037\n",
       "3  1989   96800.647605\n",
       "4   625  176187.898638"
      ]
     },
     "execution_count": 40,
     "metadata": {},
     "output_type": "execute_result"
    }
   ],
   "source": [
    "kg_v2_ridge.head()"
   ]
  },
  {
   "cell_type": "code",
   "execution_count": 46,
   "metadata": {
    "scrolled": true
   },
   "outputs": [
    {
     "data": {
      "text/plain": [
       "Text(0.5, 1.0, 'lasso-training')"
      ]
     },
     "execution_count": 46,
     "metadata": {},
     "output_type": "execute_result"
    },
    {
     "data": {
      "image/png": "[encoded data removed]",
      "text/plain": [
       "<Figure size 432x288 with 1 Axes>"
      ]
     },
     "metadata": {
      "needs_background": "light"
     },
     "output_type": "display_data"
    }
   ],
   "source": [
    "residuals_lasso = y_train - y_pred_train_lasso\n",
    "plt.scatter(y_pred_train_lasso, residuals_lasso)\n",
    "plt.axhline(0, color='r')\n",
    "plt.title('lasso-training')"
   ]
  },
  {
   "cell_type": "code",
   "execution_count": 47,
   "metadata": {},
   "outputs": [
    {
     "data": {
      "text/plain": [
       "Text(0.5, 1.0, 'lasso-testing')"
      ]
     },
     "execution_count": 47,
     "metadata": {},
     "output_type": "execute_result"
    },
    {
     "data": {
      "image/png": "[encoded data removed]",
      "text/plain": [
       "<Figure size 432x288 with 1 Axes>"
      ]
     },
     "metadata": {
      "needs_background": "light"
     },
     "output_type": "display_data"
    }
   ],
   "source": [
    "residuals_lasso = y_test - y_pred_test_lasso\n",
    "plt.scatter(y_pred_test_lasso, residuals_lasso)\n",
    "plt.axhline(0, color='r')\n",
    "plt.title('lasso-testing')"
   ]
  },
  {
   "cell_type": "code",
   "execution_count": 48,
   "metadata": {},
   "outputs": [
    {
     "data": {
      "text/plain": [
       "Text(0.5, 1.0, 'ridge-training')"
      ]
     },
     "execution_count": 48,
     "metadata": {},
     "output_type": "execute_result"
    },
    {
     "data": {
      "image/png": "[encoded data removed]",
      "text/plain": [
       "<Figure size 432x288 with 1 Axes>"
      ]
     },
     "metadata": {
      "needs_background": "light"
     },
     "output_type": "display_data"
    }
   ],
   "source": [
    "residuals_ridge = y_train - y_pred_train_ridge\n",
    "plt.scatter(y_pred_train_ridge, residuals_ridge)\n",
    "plt.axhline(0, color='r')\n",
    "plt.title('ridge-training')"
   ]
  },
  {
   "cell_type": "code",
   "execution_count": 50,
   "metadata": {},
   "outputs": [
    {
     "data": {
      "text/plain": [
       "Text(0.5, 1.0, 'ridge-testing')"
      ]
     },
     "execution_count": 50,
     "metadata": {},
     "output_type": "execute_result"
    },
    {
     "data": {
      "image/png": "[encoded data removed]",
      "text/plain": [
       "<Figure size 432x288 with 1 Axes>"
      ]
     },
     "metadata": {
      "needs_background": "light"
     },
     "output_type": "display_data"
    }
   ],
   "source": [
    "residuals_ridge = y_test - y_pred_test_ridge\n",
    "plt.scatter(y_pred_test_ridge, residuals_ridge)\n",
    "plt.axhline(0, color='r')\n",
    "plt.title('ridge-testing')"
   ]
  },
  {
   "cell_type": "code",
   "execution_count": 51,
   "metadata": {},
   "outputs": [
    {
     "data": {
      "text/plain": [
       "Text(0.5, 1.0, 'lr-training')"
      ]
     },
     "execution_count": 51,
     "metadata": {},
     "output_type": "execute_result"
    },
    {
     "data": {
      "image/png": "[encoded data removed]",
      "text/plain": [
       "<Figure size 432x288 with 1 Axes>"
      ]
     },
     "metadata": {
      "needs_background": "light"
     },
     "output_type": "display_data"
    }
   ],
   "source": [
    "residuals_lr = y_train - y_pred_train_lr\n",
    "plt.scatter(y_pred_train_lr, residuals_lr)\n",
    "plt.axhline(0, color='r')\n",
    "plt.title('lr-training')"
   ]
  },
  {
   "cell_type": "code",
   "execution_count": 54,
   "metadata": {},
   "outputs": [
    {
     "data": {
      "text/plain": [
       "Text(0.5, 1.0, 'lr-testing')"
      ]
     },
     "execution_count": 54,
     "metadata": {},
     "output_type": "execute_result"
    },
    {
     "data": {
      "image/png": "[encoded data removed]",
      "text/plain": [
       "<Figure size 432x288 with 1 Axes>"
      ]
     },
     "metadata": {
      "needs_background": "light"
     },
     "output_type": "display_data"
    }
   ],
   "source": [
    "residuals_lr = y_test - y_pred_test_lr\n",
    "plt.scatter(y_pred_test_lr, residuals_lr)\n",
    "plt.axhline(0, color='r')\n",
    "plt.title('lr-testing')"
   ]
  },
  {
   "cell_type": "code",
   "execution_count": 57,
   "metadata": {},
   "outputs": [
    {
     "data": {
      "text/plain": [
       "array([ 0.033, -0.   ,  0.082,  0.041,  0.018,  0.001,  0.008,  0.   ,\n",
       "        0.015,  0.002, -0.002,  0.026,  0.016,  0.007,  0.007,  0.   ,\n",
       "       -0.003,  0.017,  0.   , -0.021,  0.004,  0.013,  0.   ,  0.   ,\n",
       "        0.019,  0.005,  0.   ,  0.   ,  0.015,  0.007,  0.003,  0.003,\n",
       "        0.001,  0.014,  0.   ,  0.   , -0.   ,  0.   , -0.   , -0.   ,\n",
       "        0.015,  0.005,  0.058, -0.051,  0.   ,  0.139,  0.006, -0.014,\n",
       "        0.   ,  0.   ,  0.   , -0.   ,  0.001,  0.   ,  0.   ,  0.   ,\n",
       "       -0.   , -0.   , -0.008, -0.   , -0.   , -0.018, -0.017,  0.002,\n",
       "        0.   ,  0.   , -0.008,  0.006, -0.   ,  0.   , -0.   ,  0.004,\n",
       "       -0.   ,  0.   ,  0.001, -0.   , -0.   , -0.   ,  0.   , -0.   ,\n",
       "       -0.   , -0.   ,  0.   ,  0.003, -0.   ,  0.012, -0.008, -0.   ,\n",
       "       -0.   ,  0.01 , -0.   , -0.009,  0.001, -0.   ,  0.   , -0.   ,\n",
       "        0.   ,  0.017, -0.007, -0.   , -0.   , -0.002,  0.009,  0.008,\n",
       "        0.001, -0.001, -0.007, -0.   ,  0.005,  0.002,  0.004, -0.004,\n",
       "       -0.   , -0.   , -0.003, -0.   ,  0.   ,  0.001, -0.   , -0.   ,\n",
       "       -0.   ,  0.008, -0.   , -0.007, -0.   , -0.   ,  0.   ,  0.   ,\n",
       "        0.001, -0.003,  0.   ,  0.   ,  0.   , -0.   ,  0.   ,  0.   ,\n",
       "       -0.009, -0.046, -0.   ,  0.   ,  0.   , -0.   , -0.   ,  0.001,\n",
       "       -0.008, -0.012,  0.009,  0.007,  0.   , -0.   ,  0.   ,  0.   ,\n",
       "       -0.   ,  0.   , -0.   ,  0.   ,  0.   , -0.002,  0.   , -0.006,\n",
       "        0.   ,  0.   ,  0.   ,  0.   , -0.   ,  0.   ,  0.   ,  0.   ,\n",
       "       -0.   ,  0.   , -0.   ,  0.   ,  0.   , -0.   ,  0.   ,  0.   ,\n",
       "       -0.   ,  0.011, -0.   ,  0.   ,  0.   ,  0.   ,  0.   , -0.006,\n",
       "       -0.003,  0.   ,  0.   ,  0.   , -0.   , -0.002, -0.006, -0.   ,\n",
       "        0.   , -0.   , -0.004,  0.01 ,  0.003,  0.   , -0.   ,  0.   ,\n",
       "        0.   , -0.   ])"
      ]
     },
     "execution_count": 57,
     "metadata": {},
     "output_type": "execute_result"
    }
   ],
   "source": [
    "np.round(lasso_model.coef_,3)"
   ]
  },
  {
   "cell_type": "code",
   "execution_count": 58,
   "metadata": {},
   "outputs": [
    {
     "data": {
      "text/plain": [
       "12.024128775000666"
      ]
     },
     "execution_count": 58,
     "metadata": {},
     "output_type": "execute_result"
    }
   ],
   "source": [
    "lasso_model.intercept_"
   ]
  },
  {
   "cell_type": "code",
   "execution_count": null,
   "metadata": {},
   "outputs": [],
   "source": []
  }
 ],
 "metadata": {
  "kernelspec": {
   "display_name": "Python 3",
   "language": "python",
   "name": "python3"
  },
  "language_info": {
   "codemirror_mode": {
    "name": "ipython",
    "version": 3
   },
   "file_extension": ".py",
   "mimetype": "text/x-python",
   "name": "python",
   "nbconvert_exporter": "python",
   "pygments_lexer": "ipython3",
   "version": "3.7.3"
  }
 },
 "nbformat": 4,
 "nbformat_minor": 2
}
